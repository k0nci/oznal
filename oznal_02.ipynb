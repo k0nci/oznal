{
  "nbformat": 4,
  "nbformat_minor": 0,
  "metadata": {
    "colab": {
      "name": "oznal-02.ipynb",
      "version": "0.3.2",
      "provenance": [],
      "collapsed_sections": []
    },
    "kernelspec": {
      "name": "python3",
      "display_name": "Python 3"
    },
    "accelerator": "GPU"
  },
  "cells": [
    {
      "cell_type": "code",
      "metadata": {
        "id": "QA_fp9jD0B87",
        "colab_type": "code",
        "outputId": "4330b552-152e-4345-eeca-bd7221fc2628",
        "colab": {
          "base_uri": "https://localhost:8080/",
          "height": 173
        }
      },
      "source": [
        "import re\n",
        "\n",
        "import numpy as np\n",
        "import pandas as pd\n",
        "\n",
        "import nltk\n",
        "nltk.download('punkt')\n",
        "nltk.download('stopwords')\n",
        "nltk.download('wordnet')\n",
        "nltk.download('vader_lexicon')\n",
        "\n",
        "from nltk.stem import WordNetLemmatizer\n",
        "from nltk.stem import PorterStemmer\n",
        "from nltk.tokenize import word_tokenize\n",
        "from nltk.tokenize import sent_tokenize\n",
        "from nltk.corpus import stopwords \n",
        "from nltk.tokenize import word_tokenize\n",
        "from nltk.sentiment.vader import SentimentIntensityAnalyzer\n",
        "from sklearn.feature_extraction.text import TfidfVectorizer\n",
        "from sklearn.feature_selection import SelectKBest\n",
        "from sklearn.feature_selection import f_classif\n",
        "from sklearn.model_selection import train_test_split\n",
        "from sklearn.metrics import confusion_matrix\n",
        "from sklearn.metrics import f1_score\n",
        "from sklearn.metrics import accuracy_score\n",
        "from sklearn.metrics import classification_report\n",
        "from sklearn.metrics import make_scorer\n",
        "from xgboost import XGBClassifier\n",
        "from gensim.models.doc2vec import Doc2Vec, TaggedDocument\n",
        "from sklearn.decomposition import TruncatedSVD\n",
        "from imblearn.over_sampling import SMOTE\n",
        "from imblearn.combine import SMOTETomek\n",
        "from sklearn.svm import SVC\n",
        "from sklearn.ensemble import RandomForestClassifier\n",
        "from sklearn.model_selection import RandomizedSearchCV\n",
        "from sklearn.model_selection import GridSearchCV"
      ],
      "execution_count": 0,
      "outputs": [
        {
          "output_type": "stream",
          "text": [
            "[nltk_data] Downloading package punkt to /root/nltk_data...\n",
            "[nltk_data]   Unzipping tokenizers/punkt.zip.\n",
            "[nltk_data] Downloading package stopwords to /root/nltk_data...\n",
            "[nltk_data]   Unzipping corpora/stopwords.zip.\n",
            "[nltk_data] Downloading package wordnet to /root/nltk_data...\n",
            "[nltk_data]   Unzipping corpora/wordnet.zip.\n",
            "[nltk_data] Downloading package vader_lexicon to /root/nltk_data...\n"
          ],
          "name": "stdout"
        },
        {
          "output_type": "stream",
          "text": [
            "/usr/local/lib/python3.6/dist-packages/nltk/twitter/__init__.py:20: UserWarning: The twython library has not been installed. Some functionality from the twitter package will not be available.\n",
            "  warnings.warn(\"The twython library has not been installed. \"\n"
          ],
          "name": "stderr"
        }
      ]
    },
    {
      "cell_type": "code",
      "metadata": {
        "id": "3LK4xytK6sCm",
        "colab_type": "code",
        "outputId": "f71adcb1-d6f5-4d02-bd7f-3a0d86e1ce4f",
        "colab": {
          "base_uri": "https://localhost:8080/",
          "height": 172
        }
      },
      "source": [
        "url = 'https://raw.githubusercontent.com/k0nci/oznal/master/data/mbti_1.csv'\n",
        "\n",
        "raw_data = pd.read_csv(url)\n",
        "raw_data.describe()"
      ],
      "execution_count": 0,
      "outputs": [
        {
          "output_type": "execute_result",
          "data": {
            "text/html": [
              "<div>\n",
              "<style scoped>\n",
              "    .dataframe tbody tr th:only-of-type {\n",
              "        vertical-align: middle;\n",
              "    }\n",
              "\n",
              "    .dataframe tbody tr th {\n",
              "        vertical-align: top;\n",
              "    }\n",
              "\n",
              "    .dataframe thead th {\n",
              "        text-align: right;\n",
              "    }\n",
              "</style>\n",
              "<table border=\"1\" class=\"dataframe\">\n",
              "  <thead>\n",
              "    <tr style=\"text-align: right;\">\n",
              "      <th></th>\n",
              "      <th>type</th>\n",
              "      <th>posts</th>\n",
              "    </tr>\n",
              "  </thead>\n",
              "  <tbody>\n",
              "    <tr>\n",
              "      <th>count</th>\n",
              "      <td>8675</td>\n",
              "      <td>8675</td>\n",
              "    </tr>\n",
              "    <tr>\n",
              "      <th>unique</th>\n",
              "      <td>16</td>\n",
              "      <td>8675</td>\n",
              "    </tr>\n",
              "    <tr>\n",
              "      <th>top</th>\n",
              "      <td>INFP</td>\n",
              "      <td>'Being neat and tidy is often really all about...</td>\n",
              "    </tr>\n",
              "    <tr>\n",
              "      <th>freq</th>\n",
              "      <td>1832</td>\n",
              "      <td>1</td>\n",
              "    </tr>\n",
              "  </tbody>\n",
              "</table>\n",
              "</div>"
            ],
            "text/plain": [
              "        type                                              posts\n",
              "count   8675                                               8675\n",
              "unique    16                                               8675\n",
              "top     INFP  'Being neat and tidy is often really all about...\n",
              "freq    1832                                                  1"
            ]
          },
          "metadata": {
            "tags": []
          },
          "execution_count": 2
        }
      ]
    },
    {
      "cell_type": "code",
      "metadata": {
        "id": "5x3W0_4I6ttF",
        "colab_type": "code",
        "outputId": "8b908229-9032-4324-9bf6-65a137da9de4",
        "colab": {
          "base_uri": "https://localhost:8080/",
          "height": 294
        }
      },
      "source": [
        "data = raw_data['posts'].apply(lambda x: pd.Series([y.strip() for y in x.split('|||')])) \\\n",
        "                        .reset_index() \\\n",
        "                        .rename(columns={'index': 'user_id'}) \\\n",
        "                        .merge(raw_data, left_index=True, right_index=True) \\\n",
        "                        .drop(columns=['posts']) \\\n",
        "                        .melt(id_vars=['user_id', 'type'], value_name='post', var_name='post_id') \\\n",
        "                        .dropna(subset=['post']) \\\n",
        "                        .sort_values(by=['user_id', 'post_id']) \\\n",
        "                        .reset_index(drop=True)\n",
        "\n",
        "data.describe()"
      ],
      "execution_count": 0,
      "outputs": [
        {
          "output_type": "execute_result",
          "data": {
            "text/html": [
              "<div>\n",
              "<style scoped>\n",
              "    .dataframe tbody tr th:only-of-type {\n",
              "        vertical-align: middle;\n",
              "    }\n",
              "\n",
              "    .dataframe tbody tr th {\n",
              "        vertical-align: top;\n",
              "    }\n",
              "\n",
              "    .dataframe thead th {\n",
              "        text-align: right;\n",
              "    }\n",
              "</style>\n",
              "<table border=\"1\" class=\"dataframe\">\n",
              "  <thead>\n",
              "    <tr style=\"text-align: right;\">\n",
              "      <th></th>\n",
              "      <th>user_id</th>\n",
              "    </tr>\n",
              "  </thead>\n",
              "  <tbody>\n",
              "    <tr>\n",
              "      <th>count</th>\n",
              "      <td>422845.000000</td>\n",
              "    </tr>\n",
              "    <tr>\n",
              "      <th>mean</th>\n",
              "      <td>4340.423529</td>\n",
              "    </tr>\n",
              "    <tr>\n",
              "      <th>std</th>\n",
              "      <td>2506.825488</td>\n",
              "    </tr>\n",
              "    <tr>\n",
              "      <th>min</th>\n",
              "      <td>0.000000</td>\n",
              "    </tr>\n",
              "    <tr>\n",
              "      <th>25%</th>\n",
              "      <td>2165.000000</td>\n",
              "    </tr>\n",
              "    <tr>\n",
              "      <th>50%</th>\n",
              "      <td>4345.000000</td>\n",
              "    </tr>\n",
              "    <tr>\n",
              "      <th>75%</th>\n",
              "      <td>6515.000000</td>\n",
              "    </tr>\n",
              "    <tr>\n",
              "      <th>max</th>\n",
              "      <td>8674.000000</td>\n",
              "    </tr>\n",
              "  </tbody>\n",
              "</table>\n",
              "</div>"
            ],
            "text/plain": [
              "             user_id\n",
              "count  422845.000000\n",
              "mean     4340.423529\n",
              "std      2506.825488\n",
              "min         0.000000\n",
              "25%      2165.000000\n",
              "50%      4345.000000\n",
              "75%      6515.000000\n",
              "max      8674.000000"
            ]
          },
          "metadata": {
            "tags": []
          },
          "execution_count": 3
        }
      ]
    },
    {
      "cell_type": "code",
      "metadata": {
        "id": "1sAwpmc86y1B",
        "colab_type": "code",
        "outputId": "c9569973-2acd-4d42-a263-b743c3c46a24",
        "colab": {
          "base_uri": "https://localhost:8080/",
          "height": 202
        }
      },
      "source": [
        "data['I'] = data['type'].apply(lambda x: 1 if x[0] == 'I' else 0)\n",
        "data['E'] = data['type'].apply(lambda x: 1 if x[0] == 'E' else 0)\n",
        "\n",
        "data['N'] = data['type'].apply(lambda x: 1 if x[1] == 'N' else 0)\n",
        "data['S'] = data['type'].apply(lambda x: 1 if x[1] == 'S' else 0)\n",
        "\n",
        "data['T'] = data['type'].apply(lambda x: 1 if x[2] == 'T' else 0)\n",
        "data['F'] = data['type'].apply(lambda x: 1 if x[2] == 'F' else 0)\n",
        "\n",
        "data['J'] = data['type'].apply(lambda x: 1 if x[3] == 'J' else 0)\n",
        "data['P'] = data['type'].apply(lambda x: 1 if x[3] == 'P' else 0)\n",
        "\n",
        "data.head()"
      ],
      "execution_count": 0,
      "outputs": [
        {
          "output_type": "execute_result",
          "data": {
            "text/html": [
              "<div>\n",
              "<style scoped>\n",
              "    .dataframe tbody tr th:only-of-type {\n",
              "        vertical-align: middle;\n",
              "    }\n",
              "\n",
              "    .dataframe tbody tr th {\n",
              "        vertical-align: top;\n",
              "    }\n",
              "\n",
              "    .dataframe thead th {\n",
              "        text-align: right;\n",
              "    }\n",
              "</style>\n",
              "<table border=\"1\" class=\"dataframe\">\n",
              "  <thead>\n",
              "    <tr style=\"text-align: right;\">\n",
              "      <th></th>\n",
              "      <th>user_id</th>\n",
              "      <th>type</th>\n",
              "      <th>post_id</th>\n",
              "      <th>post</th>\n",
              "      <th>I</th>\n",
              "      <th>E</th>\n",
              "      <th>N</th>\n",
              "      <th>S</th>\n",
              "      <th>T</th>\n",
              "      <th>F</th>\n",
              "      <th>J</th>\n",
              "      <th>P</th>\n",
              "    </tr>\n",
              "  </thead>\n",
              "  <tbody>\n",
              "    <tr>\n",
              "      <th>0</th>\n",
              "      <td>0</td>\n",
              "      <td>INFJ</td>\n",
              "      <td>0</td>\n",
              "      <td>'http://www.youtube.com/watch?v=qsXHcwe3krw</td>\n",
              "      <td>1</td>\n",
              "      <td>0</td>\n",
              "      <td>1</td>\n",
              "      <td>0</td>\n",
              "      <td>0</td>\n",
              "      <td>1</td>\n",
              "      <td>1</td>\n",
              "      <td>0</td>\n",
              "    </tr>\n",
              "    <tr>\n",
              "      <th>1</th>\n",
              "      <td>0</td>\n",
              "      <td>INFJ</td>\n",
              "      <td>1</td>\n",
              "      <td>http://41.media.tumblr.com/tumblr_lfouy03PMA1q...</td>\n",
              "      <td>1</td>\n",
              "      <td>0</td>\n",
              "      <td>1</td>\n",
              "      <td>0</td>\n",
              "      <td>0</td>\n",
              "      <td>1</td>\n",
              "      <td>1</td>\n",
              "      <td>0</td>\n",
              "    </tr>\n",
              "    <tr>\n",
              "      <th>2</th>\n",
              "      <td>0</td>\n",
              "      <td>INFJ</td>\n",
              "      <td>2</td>\n",
              "      <td>enfp and intj moments  https://www.youtube.com...</td>\n",
              "      <td>1</td>\n",
              "      <td>0</td>\n",
              "      <td>1</td>\n",
              "      <td>0</td>\n",
              "      <td>0</td>\n",
              "      <td>1</td>\n",
              "      <td>1</td>\n",
              "      <td>0</td>\n",
              "    </tr>\n",
              "    <tr>\n",
              "      <th>3</th>\n",
              "      <td>0</td>\n",
              "      <td>INFJ</td>\n",
              "      <td>3</td>\n",
              "      <td>What has been the most life-changing experienc...</td>\n",
              "      <td>1</td>\n",
              "      <td>0</td>\n",
              "      <td>1</td>\n",
              "      <td>0</td>\n",
              "      <td>0</td>\n",
              "      <td>1</td>\n",
              "      <td>1</td>\n",
              "      <td>0</td>\n",
              "    </tr>\n",
              "    <tr>\n",
              "      <th>4</th>\n",
              "      <td>0</td>\n",
              "      <td>INFJ</td>\n",
              "      <td>4</td>\n",
              "      <td>http://www.youtube.com/watch?v=vXZeYwwRDw8   h...</td>\n",
              "      <td>1</td>\n",
              "      <td>0</td>\n",
              "      <td>1</td>\n",
              "      <td>0</td>\n",
              "      <td>0</td>\n",
              "      <td>1</td>\n",
              "      <td>1</td>\n",
              "      <td>0</td>\n",
              "    </tr>\n",
              "  </tbody>\n",
              "</table>\n",
              "</div>"
            ],
            "text/plain": [
              "   user_id  type post_id                                               post  \\\n",
              "0        0  INFJ       0        'http://www.youtube.com/watch?v=qsXHcwe3krw   \n",
              "1        0  INFJ       1  http://41.media.tumblr.com/tumblr_lfouy03PMA1q...   \n",
              "2        0  INFJ       2  enfp and intj moments  https://www.youtube.com...   \n",
              "3        0  INFJ       3  What has been the most life-changing experienc...   \n",
              "4        0  INFJ       4  http://www.youtube.com/watch?v=vXZeYwwRDw8   h...   \n",
              "\n",
              "   I  E  N  S  T  F  J  P  \n",
              "0  1  0  1  0  0  1  1  0  \n",
              "1  1  0  1  0  0  1  1  0  \n",
              "2  1  0  1  0  0  1  1  0  \n",
              "3  1  0  1  0  0  1  1  0  \n",
              "4  1  0  1  0  0  1  1  0  "
            ]
          },
          "metadata": {
            "tags": []
          },
          "execution_count": 4
        }
      ]
    },
    {
      "cell_type": "code",
      "metadata": {
        "id": "s0AxmkgR7UT6",
        "colab_type": "code",
        "colab": {}
      },
      "source": [
        "data['urls_count'] = data['post'].apply(lambda x: len(re.findall('https?://(?:[-\\w.]|(?:%[\\da-fA-F]{2}))+', x)))\n",
        "\n",
        "data['words_count'] = data['post'].apply(lambda x: len(x.split()))\n",
        "data['sentences_count'] = data['post'].apply(lambda x: len(sent_tokenize(x)))\n",
        "data['words_per_sentence'] = data['words_count'] / data['sentences_count']"
      ],
      "execution_count": 0,
      "outputs": []
    },
    {
      "cell_type": "code",
      "metadata": {
        "id": "pike53EjAM2m",
        "colab_type": "code",
        "colab": {}
      },
      "source": [
        "data['post'] = data['post'].apply(lambda x: x.lower().strip())\n",
        "data['post'] = data['post'].apply(lambda x: re.sub(r\" +\", \" \", x))\n",
        "\n",
        "data['post'] = data['post'].apply(lambda x: re.sub(r\"https?:\\/\\/(www\\.)?[-a-zA-Z0-9@:%._\\+~#=]{2,256}\\.[a-z]{2,6}\\b([-a-zA-Z0-9@:%_\\+.~#?&//=]*)\", \"\", x))\n",
        "data['post'] = data['post'].apply(lambda x: re.sub(r\"/[-\\/\\\\^$*+?.()|[\\]{}]/g\", \"\", x))\n",
        "data['post'] = data['post'].apply(lambda x: re.sub(r\"[iex\\*][nsx\\*][ftx\\*][pjx\\*]\", \"\", x))\n",
        "data['post'] = data['post'].apply(lambda x: re.sub(r\"[0-9]+\", \"\", x))\n",
        "data['post'] = data['post'].apply(lambda x: re.sub(r\"#[a-zA-Z]+\", \"\", x))\n",
        "data['post'] = data['post'].apply(lambda x: re.sub(r\"['\\\";,.?!\\/\\\\()\\[\\]]\", \"\", x))\n",
        "data['post'] = data['post'].apply(lambda x: re.sub(r\"[-_]\", \" \", x))\n",
        "\n",
        "data = data[data['post'] != '']"
      ],
      "execution_count": 0,
      "outputs": []
    },
    {
      "cell_type": "code",
      "metadata": {
        "id": "SWpKlAppL8XC",
        "colab_type": "code",
        "colab": {}
      },
      "source": [
        "def merge_post(series, sep=' '):\n",
        "  return series.str.cat(sep=sep)\n",
        "\n",
        "user_data = data.groupby('user_id').agg({\n",
        "    'I': 'max',\n",
        "    'post': merge_post,\n",
        "    'words_count': ['mean', 'var'],\n",
        "    'sentences_count': 'mean'\n",
        "})\n",
        "\n",
        "user_data.columns = [\"_\".join(y) for y in user_data.columns.ravel()]\n",
        "\n",
        "user_data.loc[user_data['words_count_var'].isnull(), 'words_count_var'] = 0\n",
        "\n",
        "user_data.rename(\n",
        "    inplace=True,\n",
        "    columns={\n",
        "        'I_max': 'I',\n",
        "        'post_merge_post': 'posts',\n",
        "        'words_count_mean': 'words_per_post',\n",
        "        'sentences_count_mean': 'sentences_per_post'\n",
        "    }    \n",
        ")\n",
        "\n",
        "cleaned_word_count = user_data['posts'].apply(lambda x: len(x.split()))\n",
        "\n",
        "user_data = user_data[cleaned_word_count > 5].reset_index(drop=True)"
      ],
      "execution_count": 0,
      "outputs": []
    },
    {
      "cell_type": "code",
      "metadata": {
        "id": "JoQkDxZBSLPq",
        "colab_type": "code",
        "colab": {}
      },
      "source": [
        "sid = SentimentIntensityAnalyzer()\n",
        "\n",
        "sentiment_data = pd.DataFrame([sid.polarity_scores(x) for x in user_data['posts']])\n",
        "\n",
        "user_data = user_data.join(sentiment_data)"
      ],
      "execution_count": 0,
      "outputs": []
    },
    {
      "cell_type": "code",
      "metadata": {
        "id": "01cwWLkHSLxZ",
        "colab_type": "code",
        "outputId": "ef1356ee-dedf-4d2f-d3ba-3b1bffd79f3d",
        "colab": {
          "base_uri": "https://localhost:8080/",
          "height": 202
        }
      },
      "source": [
        "user_data.head()"
      ],
      "execution_count": 0,
      "outputs": [
        {
          "output_type": "execute_result",
          "data": {
            "text/html": [
              "<div>\n",
              "<style scoped>\n",
              "    .dataframe tbody tr th:only-of-type {\n",
              "        vertical-align: middle;\n",
              "    }\n",
              "\n",
              "    .dataframe tbody tr th {\n",
              "        vertical-align: top;\n",
              "    }\n",
              "\n",
              "    .dataframe thead th {\n",
              "        text-align: right;\n",
              "    }\n",
              "</style>\n",
              "<table border=\"1\" class=\"dataframe\">\n",
              "  <thead>\n",
              "    <tr style=\"text-align: right;\">\n",
              "      <th></th>\n",
              "      <th>I</th>\n",
              "      <th>posts</th>\n",
              "      <th>words_per_post</th>\n",
              "      <th>words_count_var</th>\n",
              "      <th>sentences_per_post</th>\n",
              "      <th>compound</th>\n",
              "      <th>neg</th>\n",
              "      <th>neu</th>\n",
              "      <th>pos</th>\n",
              "    </tr>\n",
              "  </thead>\n",
              "  <tbody>\n",
              "    <tr>\n",
              "      <th>0</th>\n",
              "      <td>1</td>\n",
              "      <td>and  moments  sportscenter not top ten plays ...</td>\n",
              "      <td>16.416667</td>\n",
              "      <td>124.821429</td>\n",
              "      <td>1.638889</td>\n",
              "      <td>0.9735</td>\n",
              "      <td>0.088</td>\n",
              "      <td>0.777</td>\n",
              "      <td>0.134</td>\n",
              "    </tr>\n",
              "    <tr>\n",
              "      <th>1</th>\n",
              "      <td>0</td>\n",
              "      <td>im finding the lack of me in these posts very ...</td>\n",
              "      <td>25.872340</td>\n",
              "      <td>165.852914</td>\n",
              "      <td>2.723404</td>\n",
              "      <td>0.9994</td>\n",
              "      <td>0.077</td>\n",
              "      <td>0.721</td>\n",
              "      <td>0.202</td>\n",
              "    </tr>\n",
              "    <tr>\n",
              "      <th>2</th>\n",
              "      <td>1</td>\n",
              "      <td>good one        of course to which i say i kno...</td>\n",
              "      <td>20.880952</td>\n",
              "      <td>155.570848</td>\n",
              "      <td>1.976190</td>\n",
              "      <td>0.9983</td>\n",
              "      <td>0.089</td>\n",
              "      <td>0.724</td>\n",
              "      <td>0.187</td>\n",
              "    </tr>\n",
              "    <tr>\n",
              "      <th>3</th>\n",
              "      <td>1</td>\n",
              "      <td>dear  i enjoyed our conversation the other day...</td>\n",
              "      <td>22.260000</td>\n",
              "      <td>185.543265</td>\n",
              "      <td>2.300000</td>\n",
              "      <td>0.9979</td>\n",
              "      <td>0.063</td>\n",
              "      <td>0.798</td>\n",
              "      <td>0.138</td>\n",
              "    </tr>\n",
              "    <tr>\n",
              "      <th>4</th>\n",
              "      <td>0</td>\n",
              "      <td>youre fired thats another silly misconception ...</td>\n",
              "      <td>21.553191</td>\n",
              "      <td>187.643848</td>\n",
              "      <td>2.382979</td>\n",
              "      <td>0.9456</td>\n",
              "      <td>0.150</td>\n",
              "      <td>0.685</td>\n",
              "      <td>0.165</td>\n",
              "    </tr>\n",
              "  </tbody>\n",
              "</table>\n",
              "</div>"
            ],
            "text/plain": [
              "   I                                              posts  words_per_post  \\\n",
              "0  1   and  moments  sportscenter not top ten plays ...       16.416667   \n",
              "1  0  im finding the lack of me in these posts very ...       25.872340   \n",
              "2  1  good one        of course to which i say i kno...       20.880952   \n",
              "3  1  dear  i enjoyed our conversation the other day...       22.260000   \n",
              "4  0  youre fired thats another silly misconception ...       21.553191   \n",
              "\n",
              "   words_count_var  sentences_per_post  compound    neg    neu    pos  \n",
              "0       124.821429            1.638889    0.9735  0.088  0.777  0.134  \n",
              "1       165.852914            2.723404    0.9994  0.077  0.721  0.202  \n",
              "2       155.570848            1.976190    0.9983  0.089  0.724  0.187  \n",
              "3       185.543265            2.300000    0.9979  0.063  0.798  0.138  \n",
              "4       187.643848            2.382979    0.9456  0.150  0.685  0.165  "
            ]
          },
          "metadata": {
            "tags": []
          },
          "execution_count": 9
        }
      ]
    },
    {
      "cell_type": "code",
      "metadata": {
        "id": "3b1ukLcrCXdy",
        "colab_type": "code",
        "colab": {}
      },
      "source": [
        "y = user_data.I\n",
        "X = user_data.drop(columns='I')\n",
        "\n",
        "X_train, X_test, y_train, y_test = train_test_split(X, y, test_size=0.2)"
      ],
      "execution_count": 0,
      "outputs": []
    },
    {
      "cell_type": "code",
      "metadata": {
        "id": "IHdmfN8_I0Ny",
        "colab_type": "code",
        "colab": {}
      },
      "source": [
        "def lemmatize_stem(posts):\n",
        "  lemmatizer = WordNetLemmatizer()\n",
        "  stemmer = PorterStemmer()\n",
        "  \n",
        "  res = []\n",
        "  for post in posts:\n",
        "    words = word_tokenize(post)\n",
        "    words = [lemmatizer.lemmatize(word) for word in words]\n",
        "    words = [stemmer.stem(word) for word in words]\n",
        "    res.append(' '.join(words))\n",
        "    \n",
        "  return res\n",
        "\n",
        "\n",
        "train_documents = lemmatize_stem(X_train.posts)\n",
        "test_documents = lemmatize_stem(X_test.posts)"
      ],
      "execution_count": 0,
      "outputs": []
    },
    {
      "cell_type": "code",
      "metadata": {
        "id": "wuMUdcl8qodO",
        "colab_type": "code",
        "colab": {}
      },
      "source": [
        "# train_documents = X_train.posts\n",
        "# test_documents = X_test.posts"
      ],
      "execution_count": 0,
      "outputs": []
    },
    {
      "cell_type": "markdown",
      "metadata": {
        "id": "eQKoCGtwDMDo",
        "colab_type": "text"
      },
      "source": [
        "# TF-IDF"
      ]
    },
    {
      "cell_type": "code",
      "metadata": {
        "id": "jYVHY5kN7ia7",
        "colab_type": "code",
        "outputId": "b15934e7-1589-41e3-c850-1593485a4fbf",
        "colab": {
          "base_uri": "https://localhost:8080/",
          "height": 52
        }
      },
      "source": [
        "stop_words = set(stopwords.words('english')) \n",
        "\n",
        "NGRAM_RANGE = (1, 2)\n",
        "TOP_K = 1500\n",
        "TOKEN_MODE = 'word'\n",
        "MIN_DOCUMENT_FREQUENCY = 2\n",
        "\n",
        "vectorizer_params = {\n",
        "  'ngram_range': NGRAM_RANGE,\n",
        "  'dtype': 'int32',\n",
        "  'strip_accents': 'unicode',\n",
        "  'decode_error': 'replace',\n",
        "  'analyzer': TOKEN_MODE, \n",
        "  'min_df': MIN_DOCUMENT_FREQUENCY,\n",
        "  'stop_words': stop_words\n",
        "}\n",
        "\n",
        "vectorizer = TfidfVectorizer(**vectorizer_params)\n",
        "\n",
        "train_features_tfidf = vectorizer.fit_transform(train_documents)\n",
        "test_features_tfidf = vectorizer.transform(test_documents)"
      ],
      "execution_count": 0,
      "outputs": [
        {
          "output_type": "stream",
          "text": [
            "/usr/local/lib/python3.6/dist-packages/sklearn/feature_extraction/text.py:1577: UserWarning: Only (<class 'numpy.float64'>, <class 'numpy.float32'>, <class 'numpy.float16'>) 'dtype' should be used. int32 'dtype' will be converted to np.float64.\n",
            "  UserWarning)\n"
          ],
          "name": "stderr"
        }
      ]
    },
    {
      "cell_type": "code",
      "metadata": {
        "id": "cScP3uK8qlOP",
        "colab_type": "code",
        "colab": {}
      },
      "source": [
        "selector = SelectKBest(f_classif, k=min(TOP_K, train_features_tfidf.shape[1]))\n",
        "selector.fit(train_features_tfidf, y_train)\n",
        "\n",
        "train_features_tfidf = selector.transform(train_features_tfidf).astype('float32')\n",
        "test_features_tfidf = selector.transform(test_features_tfidf).astype('float32')"
      ],
      "execution_count": 0,
      "outputs": []
    },
    {
      "cell_type": "code",
      "metadata": {
        "id": "NCLV7wXNPZuK",
        "colab_type": "code",
        "colab": {}
      },
      "source": [
        "svd = TruncatedSVD(n_components=64)\n",
        "\n",
        "train_features_tfidf = svd.fit_transform(train_features_tfidf)\n",
        "test_features_tfidf = svd.transform(test_features_tfidf)"
      ],
      "execution_count": 0,
      "outputs": []
    },
    {
      "cell_type": "code",
      "metadata": {
        "id": "glR1gudAK5lX",
        "colab_type": "code",
        "colab": {}
      },
      "source": [
        "X_train_tfidf = X_train.drop(columns='posts')\n",
        "X_test_tfidf = X_test.drop(columns='posts')\n",
        "\n",
        "X_train_tfidf.reset_index(drop=True, inplace=True)\n",
        "X_test_tfidf.reset_index(drop=True, inplace=True)\n",
        "\n",
        "train_features_tfidf = pd.SparseDataFrame(data=train_features_tfidf)\n",
        "test_features_tfidf = pd.SparseDataFrame(data=test_features_tfidf)\n",
        "\n",
        "X_train_tfidf = pd.concat([X_train_tfidf, train_features_tfidf.to_dense()], axis=1)\n",
        "X_test_tfidf = pd.concat([X_test_tfidf, test_features_tfidf.to_dense()], axis=1)"
      ],
      "execution_count": 0,
      "outputs": []
    },
    {
      "cell_type": "code",
      "metadata": {
        "id": "gS-uNlJzL1yu",
        "colab_type": "code",
        "outputId": "fdb318a4-992b-49dd-8a21-568697e5365c",
        "colab": {
          "base_uri": "https://localhost:8080/",
          "height": 121
        }
      },
      "source": [
        "class_ratio = (y_train == 0).sum()/(y_train == 1).sum()\n",
        "\n",
        "model_tfidf = XGBClassifier(scale_pos_weight=class_ratio)\n",
        "model_tfidf.fit(X_train_tfidf, y_train)"
      ],
      "execution_count": 0,
      "outputs": [
        {
          "output_type": "execute_result",
          "data": {
            "text/plain": [
              "XGBClassifier(base_score=0.5, booster='gbtree', colsample_bylevel=1,\n",
              "       colsample_bytree=1, gamma=0, learning_rate=0.1, max_delta_step=0,\n",
              "       max_depth=3, min_child_weight=1, missing=None, n_estimators=100,\n",
              "       n_jobs=1, nthread=None, objective='binary:logistic', random_state=0,\n",
              "       reg_alpha=0, reg_lambda=1, scale_pos_weight=0.2974943904263276,\n",
              "       seed=None, silent=True, subsample=1)"
            ]
          },
          "metadata": {
            "tags": []
          },
          "execution_count": 17
        }
      ]
    },
    {
      "cell_type": "code",
      "metadata": {
        "id": "JX0d2uqZYC7J",
        "colab_type": "code",
        "colab": {}
      },
      "source": [
        "y_pred = model_tfidf.predict(X_test_tfidf)"
      ],
      "execution_count": 0,
      "outputs": []
    },
    {
      "cell_type": "code",
      "metadata": {
        "id": "pc4wRs_pYD_7",
        "colab_type": "code",
        "outputId": "086cbf65-4ba0-4237-e8aa-f77b8809e6d1",
        "colab": {
          "base_uri": "https://localhost:8080/",
          "height": 52
        }
      },
      "source": [
        "confusion_matrix(y_test, y_pred)"
      ],
      "execution_count": 0,
      "outputs": [
        {
          "output_type": "execute_result",
          "data": {
            "text/plain": [
              "array([[231, 177],\n",
              "       [414, 913]])"
            ]
          },
          "metadata": {
            "tags": []
          },
          "execution_count": 19
        }
      ]
    },
    {
      "cell_type": "code",
      "metadata": {
        "id": "K_tM2DyRLRlL",
        "colab_type": "code",
        "outputId": "049a5a53-4241-45d0-b663-4cba8dd92c01",
        "colab": {
          "base_uri": "https://localhost:8080/",
          "height": 173
        }
      },
      "source": [
        "print(classification_report(y_test, y_pred))"
      ],
      "execution_count": 0,
      "outputs": [
        {
          "output_type": "stream",
          "text": [
            "              precision    recall  f1-score   support\n",
            "\n",
            "           0       0.36      0.57      0.44       408\n",
            "           1       0.84      0.69      0.76      1327\n",
            "\n",
            "   micro avg       0.66      0.66      0.66      1735\n",
            "   macro avg       0.60      0.63      0.60      1735\n",
            "weighted avg       0.72      0.66      0.68      1735\n",
            "\n"
          ],
          "name": "stdout"
        }
      ]
    },
    {
      "cell_type": "code",
      "metadata": {
        "id": "862p_mIhrQDR",
        "colab_type": "code",
        "outputId": "bfe02376-4e63-499f-92fc-8e86218a131c",
        "colab": {
          "base_uri": "https://localhost:8080/",
          "height": 34
        }
      },
      "source": [
        "accuracy_score(y_test, y_pred)"
      ],
      "execution_count": 0,
      "outputs": [
        {
          "output_type": "execute_result",
          "data": {
            "text/plain": [
              "0.6593659942363113"
            ]
          },
          "metadata": {
            "tags": []
          },
          "execution_count": 21
        }
      ]
    },
    {
      "cell_type": "code",
      "metadata": {
        "id": "QYlk-EJ8YH-f",
        "colab_type": "code",
        "outputId": "4cd9b909-25b9-47ef-cfcd-8868f6e9a6ff",
        "colab": {
          "base_uri": "https://localhost:8080/",
          "height": 208
        }
      },
      "source": [
        "importances = pd.Series(model_tfidf.feature_importances_, index=X_train_tfidf.columns)\n",
        "\n",
        "importances.nlargest(10)"
      ],
      "execution_count": 0,
      "outputs": [
        {
          "output_type": "execute_result",
          "data": {
            "text/plain": [
              "2           0.052869\n",
              "6           0.036285\n",
              "1           0.027283\n",
              "7           0.026034\n",
              "pos         0.024261\n",
              "12          0.024197\n",
              "compound    0.022559\n",
              "4           0.021161\n",
              "0           0.021069\n",
              "45          0.020011\n",
              "dtype: float32"
            ]
          },
          "metadata": {
            "tags": []
          },
          "execution_count": 22
        }
      ]
    },
    {
      "cell_type": "code",
      "metadata": {
        "id": "skGl3jLJaKK6",
        "colab_type": "code",
        "colab": {}
      },
      "source": [
        ""
      ],
      "execution_count": 0,
      "outputs": []
    },
    {
      "cell_type": "markdown",
      "metadata": {
        "id": "A8wgOLS8DTPk",
        "colab_type": "text"
      },
      "source": [
        "# Doc2Vec"
      ]
    },
    {
      "cell_type": "code",
      "metadata": {
        "id": "cTrkpPa4k3L9",
        "colab_type": "code",
        "colab": {}
      },
      "source": [
        "train_documents_tagged = [TaggedDocument(doc.split(), [i]) for i, doc in enumerate(train_documents)]"
      ],
      "execution_count": 0,
      "outputs": []
    },
    {
      "cell_type": "code",
      "metadata": {
        "id": "sd_oexmHcvsm",
        "colab_type": "code",
        "colab": {}
      },
      "source": [
        "doc2vec = Doc2Vec(train_documents_tagged, vector_size=64, window=3, min_count=2, workers=4)\n",
        "\n",
        "train_features_doc2vec = [doc2vec.infer_vector(words) for words, tags in train_documents_tagged]\n",
        "test_features_doc2vec = [doc2vec.infer_vector(doc.split()) for doc in test_documents]"
      ],
      "execution_count": 0,
      "outputs": []
    },
    {
      "cell_type": "code",
      "metadata": {
        "id": "_einF_MifiTE",
        "colab_type": "code",
        "colab": {}
      },
      "source": [
        "X_train_doc2vec = X_train.drop(columns='posts')\n",
        "X_test_doc2vec = X_test.drop(columns='posts')\n",
        "\n",
        "X_train_doc2vec.reset_index(drop=True, inplace=True)\n",
        "X_test_doc2vec.reset_index(drop=True, inplace=True)\n",
        "\n",
        "train_features_doc2vec = pd.DataFrame(data=train_features_doc2vec)\n",
        "test_features_doc2vec = pd.DataFrame(data=test_features_doc2vec)\n",
        "\n",
        "X_train_doc2vec = pd.concat([X_train_doc2vec, train_features_doc2vec], axis=1)\n",
        "X_test_doc2vec = pd.concat([X_test_doc2vec, test_features_doc2vec], axis=1)"
      ],
      "execution_count": 0,
      "outputs": []
    },
    {
      "cell_type": "markdown",
      "metadata": {
        "id": "apxnRxuto2YP",
        "colab_type": "text"
      },
      "source": [
        "Resample zhorsuje vysledky, vahovanie funguje lepsie"
      ]
    },
    {
      "cell_type": "code",
      "metadata": {
        "id": "rL8UaGTz5_TU",
        "colab_type": "code",
        "colab": {}
      },
      "source": [
        "# X_train_doc2vec.drop(columns='words_count_var', inplace=True)\n",
        "# X_test_doc2vec.drop(columns='words_count_var', inplace=True)\n",
        "\n",
        "# sm = SMOTETomek()\n",
        "# X_train_doc2vec, y_train_doc2vec = sm.fit_resample(X_train_doc2vec, y_train)"
      ],
      "execution_count": 0,
      "outputs": []
    },
    {
      "cell_type": "code",
      "metadata": {
        "id": "0FEjaPndm6bn",
        "colab_type": "code",
        "outputId": "c1a7bf96-1e75-4c99-f369-158d5c9efcb3",
        "colab": {
          "base_uri": "https://localhost:8080/",
          "height": 121
        }
      },
      "source": [
        "class_ratio = (y_train == 0).sum()/(y_train == 1).sum()\n",
        "\n",
        "gbdt_doc2vec = XGBClassifier(scale_pos_weight=class_ratio)\n",
        "gbdt_doc2vec.fit(X_train_doc2vec, y_train)"
      ],
      "execution_count": 0,
      "outputs": [
        {
          "output_type": "execute_result",
          "data": {
            "text/plain": [
              "XGBClassifier(base_score=0.5, booster='gbtree', colsample_bylevel=1,\n",
              "       colsample_bytree=1, gamma=0, learning_rate=0.1, max_delta_step=0,\n",
              "       max_depth=3, min_child_weight=1, missing=None, n_estimators=100,\n",
              "       n_jobs=1, nthread=None, objective='binary:logistic', random_state=0,\n",
              "       reg_alpha=0, reg_lambda=1, scale_pos_weight=0.2974943904263276,\n",
              "       seed=None, silent=True, subsample=1)"
            ]
          },
          "metadata": {
            "tags": []
          },
          "execution_count": 27
        }
      ]
    },
    {
      "cell_type": "code",
      "metadata": {
        "id": "__9HFM-bksl7",
        "colab_type": "code",
        "outputId": "fe1379a1-0664-4e22-961d-e59fcbb8420d",
        "colab": {
          "base_uri": "https://localhost:8080/",
          "height": 165
        }
      },
      "source": [
        "y_pred = model_doc2vec.predict(X_test_doc2vec)"
      ],
      "execution_count": 0,
      "outputs": [
        {
          "output_type": "error",
          "ename": "NameError",
          "evalue": "ignored",
          "traceback": [
            "\u001b[0;31m---------------------------------------------------------------------------\u001b[0m",
            "\u001b[0;31mNameError\u001b[0m                                 Traceback (most recent call last)",
            "\u001b[0;32m<ipython-input-28-f64c65ffde59>\u001b[0m in \u001b[0;36m<module>\u001b[0;34m()\u001b[0m\n\u001b[0;32m----> 1\u001b[0;31m \u001b[0my_pred\u001b[0m \u001b[0;34m=\u001b[0m \u001b[0mmodel_doc2vec\u001b[0m\u001b[0;34m.\u001b[0m\u001b[0mpredict\u001b[0m\u001b[0;34m(\u001b[0m\u001b[0mX_test_doc2vec\u001b[0m\u001b[0;34m)\u001b[0m\u001b[0;34m\u001b[0m\u001b[0;34m\u001b[0m\u001b[0m\n\u001b[0m",
            "\u001b[0;31mNameError\u001b[0m: name 'model_doc2vec' is not defined"
          ]
        }
      ]
    },
    {
      "cell_type": "code",
      "metadata": {
        "id": "Bjx679eerF3Z",
        "colab_type": "code",
        "colab": {}
      },
      "source": [
        "confusion_matrix(y_test, y_pred)"
      ],
      "execution_count": 0,
      "outputs": []
    },
    {
      "cell_type": "code",
      "metadata": {
        "id": "dr0N29amrGEq",
        "colab_type": "code",
        "colab": {}
      },
      "source": [
        "print(classification_report(y_test, y_pred))"
      ],
      "execution_count": 0,
      "outputs": []
    },
    {
      "cell_type": "code",
      "metadata": {
        "id": "iK7fepiauMl4",
        "colab_type": "code",
        "colab": {}
      },
      "source": [
        "accuracy_score(y_test, y_pred)"
      ],
      "execution_count": 0,
      "outputs": []
    },
    {
      "cell_type": "code",
      "metadata": {
        "id": "lRO8HK-luNUa",
        "colab_type": "code",
        "colab": {}
      },
      "source": [
        "importances = pd.Series(model_doc2vec.feature_importances_, index=X_train_doc2vec.columns)\n",
        "\n",
        "importances.nlargest(10)"
      ],
      "execution_count": 0,
      "outputs": []
    },
    {
      "cell_type": "code",
      "metadata": {
        "id": "00Jh7Yh7ulb5",
        "colab_type": "code",
        "colab": {}
      },
      "source": [
        ""
      ],
      "execution_count": 0,
      "outputs": []
    },
    {
      "cell_type": "markdown",
      "metadata": {
        "id": "MDMp2ogiNRl0",
        "colab_type": "text"
      },
      "source": [
        "# TF-IDF + Doc2Vec\n"
      ]
    },
    {
      "cell_type": "code",
      "metadata": {
        "id": "7ldsmNHXNZ9w",
        "colab_type": "code",
        "colab": {}
      },
      "source": [
        "train_features_tfidf = pd.SparseDataFrame(data=train_features_tfidf).add_prefix('tfidf_')\n",
        "test_features_tfidf = pd.SparseDataFrame(data=test_features_tfidf).add_prefix('tfidf_')\n",
        "\n",
        "train_features_doc2vec = pd.DataFrame(data=train_features_doc2vec).add_prefix('doc2vec_')\n",
        "test_features_doc2vec = pd.DataFrame(data=test_features_doc2vec).add_prefix('doc2vec_')\n",
        "\n",
        "train_tfidf_doc2vec = pd.concat([train_features_tfidf, train_features_doc2vec], axis=1)\n",
        "test_tfidf_doc2vec = pd.concat([test_features_tfidf, test_features_doc2vec], axis=1)\n",
        "\n",
        "train_tfidf_doc2vec = pd.SparseDataFrame(train_tfidf_doc2vec)\n",
        "test_tfidf_doc2vec = pd.SparseDataFrame(test_tfidf_doc2vec)"
      ],
      "execution_count": 0,
      "outputs": []
    },
    {
      "cell_type": "markdown",
      "metadata": {
        "id": "xSZ6gucUCug0",
        "colab_type": "text"
      },
      "source": [
        ""
      ]
    },
    {
      "cell_type": "code",
      "metadata": {
        "id": "Iy9qepsqN7ty",
        "colab_type": "code",
        "colab": {}
      },
      "source": [
        "X_train_tfidf_doc2vec = X_train.drop(columns='posts')\n",
        "X_test_tfidf_doc2vec = X_test.drop(columns='posts')\n",
        "\n",
        "X_train_tfidf_doc2vec.reset_index(drop=True, inplace=True)\n",
        "X_test_tfidf_doc2vec.reset_index(drop=True, inplace=True)\n",
        "\n",
        "X_train_tfidf_doc2vec = pd.concat([X_train_tfidf_doc2vec, train_tfidf_doc2vec.to_dense()], axis=1)\n",
        "X_test_tfidf_doc2vec = pd.concat([X_test_tfidf_doc2vec, test_tfidf_doc2vec.to_dense()], axis=1)"
      ],
      "execution_count": 0,
      "outputs": []
    },
    {
      "cell_type": "code",
      "metadata": {
        "id": "OzuTBT3VCad9",
        "colab_type": "code",
        "colab": {}
      },
      "source": [
        "X_tsne = X_train_tfidf_doc2vec[:1000]\n",
        "y_tsne = y_train[:1000]\n",
        "\n",
        "from sklearn.manifold import TSNE\n",
        "tsne = TSNE(n_components=2, random_state=0)"
      ],
      "execution_count": 0,
      "outputs": []
    },
    {
      "cell_type": "code",
      "metadata": {
        "id": "tVoBkWrPC71p",
        "colab_type": "code",
        "colab": {}
      },
      "source": [
        "X_2d = tsne.fit_transform(X_tsne)"
      ],
      "execution_count": 0,
      "outputs": []
    },
    {
      "cell_type": "code",
      "metadata": {
        "id": "TnCKZtbY9jpJ",
        "colab_type": "code",
        "outputId": "45ef6cb6-e2f5-4837-9d0e-2ea65fe90303",
        "colab": {
          "base_uri": "https://localhost:8080/",
          "height": 324
        }
      },
      "source": [
        "target_ids = [0, 1]\n",
        "\n",
        "from matplotlib import pyplot as plt\n",
        "plt.figure(figsize=(6, 5))\n",
        "colors = 'r', 'g'\n",
        "for i, c, label in zip(target_ids, colors, [0, 1]):\n",
        "    plt.scatter(X_2d[y_tsne == i, 0], X_2d[y_tsne == i, 1], c=c, label=label, alpha=0.4)\n",
        "plt.legend()\n",
        "plt.show()"
      ],
      "execution_count": 0,
      "outputs": [
        {
          "output_type": "display_data",
          "data": {
            "image/png": "[encoded data removed]",
            "text/plain": [
              "<Figure size 432x360 with 1 Axes>"
            ]
          },
          "metadata": {
            "tags": []
          }
        }
      ]
    },
    {
      "cell_type": "code",
      "metadata": {
        "id": "lYy-Ga04Wx84",
        "colab_type": "code",
        "colab": {}
      },
      "source": [
        "class_ratio = (y_train == 0).sum()/(y_train == 1).sum()\n",
        "\n",
        "gbdt_params = {\n",
        "    'colsample bytree': 0.9,\n",
        "  'colsample_bylevel': 0.9,\n",
        "  'gamma': 0.4,\n",
        "  'learning_rate': 0.1,\n",
        "#   'max_depth': 7,\n",
        "  'min_child_weight': 7,\n",
        "#   'n_estimators': 101,\n",
        "  'reg_lambda': 10,\n",
        "  'subsample': 0.7\n",
        "}\n",
        "\n",
        "scoring = {\n",
        "    'f1_zero': make_scorer(f1_score, pos_label=0),\n",
        "    'f1_macro': 'f1_macro'\n",
        "}"
      ],
      "execution_count": 0,
      "outputs": []
    },
    {
      "cell_type": "code",
      "metadata": {
        "id": "vTCdjgICVDMq",
        "colab_type": "code",
        "colab": {}
      },
      "source": [
        "param_opts = {\n",
        "    'n_estimators': [75, 101, 125, 151],\n",
        "#     'reg_lambda': [0.1, 0, 1, 10],\n",
        "    'max_depth': range(4, 9),\n",
        "#     'min_child_weight': range(4, 9),\n",
        "#     'colsample_bylevel': [i/10.0 for i in range(6, 10)],\n",
        "#     'colsample bytree': [i/10.0 for i in range(6, 10)],\n",
        "#     'gamma': [i/10.0 for i in range(0, 5)],\n",
        "#     'learning_rate': [0.05, 0.1, 0.2, 0.3],\n",
        "#     'reg_lambda': [0.1, 0, 1, 10],\n",
        "#     'subsample': [i/10.0 for i in range(6, 10)]\n",
        "}\n",
        "\n",
        "psearch = RandomizedSearchCV(XGBClassifier(scale_pos_weight=class_ratio, **gbdt_params), param_opts, \n",
        "                             scoring=scoring, cv=10, n_iter=10, refit='f1_macro',\n",
        "                             n_jobs=2, verbose=10)\n",
        "psearch.fit(X_train_tfidf_doc2vec, y_train)\n",
        "\n",
        "psearch.best_params_, psearch.best_score_"
      ],
      "execution_count": 0,
      "outputs": []
    },
    {
      "cell_type": "code",
      "metadata": {
        "id": "V62gqwDET1m0",
        "colab_type": "code",
        "colab": {}
      },
      "source": [
        "param_opts = {\n",
        "  'max_depth': [4, 5, 6, 7],\n",
        "  'n_estimators': [91, 101, 111, 121]\n",
        "}\n",
        "\n",
        "psearch = GridSearchCV(XGBClassifier(scale_pos_weight=class_ratio, **gbdt_params), param_opts, \n",
        "                       scoring=scoring, cv=10, refit='f1_macro',\n",
        "                       n_jobs=2, verbose=10)\n",
        "psearch.fit(X_train_tfidf_doc2vec, y_train)\n",
        "\n",
        "psearch.best_params_, psearch.best_score_"
      ],
      "execution_count": 0,
      "outputs": []
    },
    {
      "cell_type": "markdown",
      "metadata": {
        "id": "GsHafDG2M6GJ",
        "colab_type": "text"
      },
      "source": [
        "## GBDT"
      ]
    },
    {
      "cell_type": "code",
      "metadata": {
        "id": "CU7MyHF2PO6u",
        "colab_type": "code",
        "colab": {}
      },
      "source": [
        "gbdt_params = {\n",
        "    'colsample bytree': 0.9,\n",
        "  'colsample_bylevel': 0.9,\n",
        "  'gamma': 0.4,\n",
        "  'learning_rate': 0.1,\n",
        "  'max_depth': 7,\n",
        "  'min_child_weight': 7,\n",
        "  'n_estimators': 101,\n",
        "  'reg_lambda': 10,\n",
        "  'subsample': 0.7\n",
        "}\n",
        "\n",
        "gbdt_tfidf_doc2vec = XGBClassifier(scale_pos_weight=class_ratio, **gbdt_params)\n",
        "gbdt_tfidf_doc2vec.fit(X_train_tfidf_doc2vec, y_train)"
      ],
      "execution_count": 0,
      "outputs": []
    },
    {
      "cell_type": "code",
      "metadata": {
        "id": "M9UDELVGPaPi",
        "colab_type": "code",
        "colab": {}
      },
      "source": [
        "y_pred = gbdt_tfidf_doc2vec.predict(X_test_tfidf_doc2vec)"
      ],
      "execution_count": 0,
      "outputs": []
    },
    {
      "cell_type": "code",
      "metadata": {
        "id": "3L6liGjHPdTC",
        "colab_type": "code",
        "colab": {}
      },
      "source": [
        "confusion_matrix(y_test, y_pred)"
      ],
      "execution_count": 0,
      "outputs": []
    },
    {
      "cell_type": "code",
      "metadata": {
        "id": "1F-XY1kuPf31",
        "colab_type": "code",
        "colab": {}
      },
      "source": [
        "print(classification_report(y_test, y_pred))"
      ],
      "execution_count": 0,
      "outputs": []
    },
    {
      "cell_type": "code",
      "metadata": {
        "id": "d75bp21kkiZP",
        "colab_type": "code",
        "colab": {}
      },
      "source": [
        "accuracy_score(y_test, y_pred)"
      ],
      "execution_count": 0,
      "outputs": []
    },
    {
      "cell_type": "code",
      "metadata": {
        "id": "Hj8z5nzjkic9",
        "colab_type": "code",
        "colab": {}
      },
      "source": [
        "importances = pd.Series(gbdt_tfidf_doc2vec.feature_importances_, index=X_train_tfidf_doc2vec.columns)\n",
        "\n",
        "importances.nlargest(10)"
      ],
      "execution_count": 0,
      "outputs": []
    },
    {
      "cell_type": "markdown",
      "metadata": {
        "id": "ZLC3mELyM-mR",
        "colab_type": "text"
      },
      "source": [
        "## SVM"
      ]
    },
    {
      "cell_type": "code",
      "metadata": {
        "id": "Xyvf3pbJpO6S",
        "colab_type": "code",
        "colab": {}
      },
      "source": [
        "svm_tfidf_doc2vec = SVC(class_weight='balanced', kernel='linear')\n",
        "svm_tfidf_doc2vec.fit(X_train_tfidf_doc2vec, y_train)"
      ],
      "execution_count": 0,
      "outputs": []
    },
    {
      "cell_type": "code",
      "metadata": {
        "id": "BzNvp-NlDCWE",
        "colab_type": "code",
        "colab": {}
      },
      "source": [
        "y_pred = svm_tfidf_doc2vec.predict(X_test_tfidf_doc2vec)"
      ],
      "execution_count": 0,
      "outputs": []
    },
    {
      "cell_type": "code",
      "metadata": {
        "id": "Sl73BkpquseO",
        "colab_type": "code",
        "colab": {}
      },
      "source": [
        "confusion_matrix(y_test, y_pred)"
      ],
      "execution_count": 0,
      "outputs": []
    },
    {
      "cell_type": "code",
      "metadata": {
        "id": "n7yKsYhCuvXi",
        "colab_type": "code",
        "colab": {}
      },
      "source": [
        "print(classification_report(y_test, y_pred))"
      ],
      "execution_count": 0,
      "outputs": []
    },
    {
      "cell_type": "code",
      "metadata": {
        "id": "oa5u1ahquyrc",
        "colab_type": "code",
        "colab": {}
      },
      "source": [
        "accuracy_score(y_test, y_pred)"
      ],
      "execution_count": 0,
      "outputs": []
    },
    {
      "cell_type": "markdown",
      "metadata": {
        "id": "0S04IFGBNB43",
        "colab_type": "text"
      },
      "source": [
        "## Random Forest"
      ]
    },
    {
      "cell_type": "code",
      "metadata": {
        "id": "GwUlMpXFPf7S",
        "colab_type": "code",
        "colab": {}
      },
      "source": [
        "rf_tfidf_doc2vec = RandomForestClassifier(class_weight='balanced')\n",
        "rf_tfidf_doc2vec.fit(X_train_tfidf_doc2vec, y_train)"
      ],
      "execution_count": 0,
      "outputs": []
    },
    {
      "cell_type": "code",
      "metadata": {
        "id": "wbM_HQga1RaB",
        "colab_type": "code",
        "colab": {}
      },
      "source": [
        "y_pred = rf_tfidf_doc2vec.predict(X_test_tfidf_doc2vec)"
      ],
      "execution_count": 0,
      "outputs": []
    },
    {
      "cell_type": "code",
      "metadata": {
        "id": "Ecr88SSjPgCh",
        "colab_type": "code",
        "colab": {}
      },
      "source": [
        "confusion_matrix(y_test, y_pred)"
      ],
      "execution_count": 0,
      "outputs": []
    },
    {
      "cell_type": "code",
      "metadata": {
        "id": "yNf3CccPPgOf",
        "colab_type": "code",
        "colab": {}
      },
      "source": [
        "print(classification_report(y_test, y_pred))"
      ],
      "execution_count": 0,
      "outputs": []
    },
    {
      "cell_type": "code",
      "metadata": {
        "id": "HP8K7yeNNM4Q",
        "colab_type": "code",
        "colab": {}
      },
      "source": [
        "accuracy_score(y_test, y_pred)"
      ],
      "execution_count": 0,
      "outputs": []
    },
    {
      "cell_type": "code",
      "metadata": {
        "id": "3J6lkc3ONNIr",
        "colab_type": "code",
        "colab": {}
      },
      "source": [
        ""
      ],
      "execution_count": 0,
      "outputs": []
    },
    {
      "cell_type": "code",
      "metadata": {
        "id": "2FS7kjGqNNLu",
        "colab_type": "code",
        "colab": {}
      },
      "source": [
        ""
      ],
      "execution_count": 0,
      "outputs": []
    },
    {
      "cell_type": "code",
      "metadata": {
        "id": "C701Mtc3LKvg",
        "colab_type": "code",
        "colab": {}
      },
      "source": [
        "X_train_doc2vec.head()"
      ],
      "execution_count": 0,
      "outputs": []
    },
    {
      "cell_type": "code",
      "metadata": {
        "id": "9T0x5sJurGHA",
        "colab_type": "code",
        "colab": {}
      },
      "source": [
        "import numpy as np\n",
        "from keras.utils import to_categorical\n",
        "from keras import models\n",
        "from keras import layers\n",
        "\n",
        "X_trainek = X_train_doc2vec.drop(columns='words_per_post')\n",
        "X_testek = X_test_doc2vec.drop(columns='words_per_post')\n",
        "\n",
        "X_trainek = X_trainek.drop(columns='words_count_var')\n",
        "X_testek = X_testek.drop(columns='words_count_var')\n",
        "\n",
        "X_trainek = X_trainek.drop(columns='sentences_per_post')\n",
        "X_testek = X_testek.drop(columns='sentences_per_post')\n",
        "\n",
        "sm = SMOTE()\n",
        "X_trainek, y_trainek = sm.fit_resample(X_trainek, y_train)\n",
        "\n",
        "from sklearn.preprocessing import MinMaxScaler\n",
        "scaler = MinMaxScaler()\n",
        "scaler.fit(X_trainek)\n",
        "\n",
        "X_trainek = scaler.transform(X_trainek)\n",
        "X_testek = scaler.transform(X_testek)\n",
        "\n",
        "\t\t\t \n",
        "\n",
        "model = models.Sequential()\n",
        "model.add(layers.Dense(16, activation = \"sigmoid\", input_shape=(64, )))\n",
        "model.add(layers.Dropout(0.5))\n",
        "model.add(layers.Dense(16, activation = \"sigmoid\"))\n",
        "model.add(layers.Dropout(0.5))\n",
        "model.add(layers.Dense(1, activation = \"sigmoid\"))\n",
        "model.summary()\n",
        "\n",
        "model.compile(\n",
        " optimizer = \"adam\",\n",
        " loss = \"binary_crossentropy\",\n",
        " metrics = [\"accuracy\"]\n",
        ")\n",
        "\n",
        "results = model.fit(\n",
        " X_trainek, y_trainek,\n",
        " epochs= 500,\n",
        " batch_size = 32,\n",
        " validation_data = (X_testek, y_test)\n",
        ")\n",
        "print(\"Test-Accuracy:\", np.mean(results.history[\"val_acc\"]))"
      ],
      "execution_count": 0,
      "outputs": []
    },
    {
      "cell_type": "code",
      "metadata": {
        "colab_type": "code",
        "id": "TUkTEMyuoPXg",
        "colab": {}
      },
      "source": [
        "y_pred = model.predict(X_testek)\n",
        "y_pred = [1 if a > 0.5 else 0 for a in y_pred]"
      ],
      "execution_count": 0,
      "outputs": []
    },
    {
      "cell_type": "code",
      "metadata": {
        "colab_type": "code",
        "id": "l3WnvfDQoPXk",
        "colab": {}
      },
      "source": [
        "confusion_matrix(y_test, y_pred)"
      ],
      "execution_count": 0,
      "outputs": []
    },
    {
      "cell_type": "code",
      "metadata": {
        "colab_type": "code",
        "id": "LOmt_F2toPXn",
        "colab": {}
      },
      "source": [
        "f1_score(y_test, y_pred, average='macro')"
      ],
      "execution_count": 0,
      "outputs": []
    }
  ]
}